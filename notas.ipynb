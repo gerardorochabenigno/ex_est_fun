{
 "cells": [
  {
   "cell_type": "markdown",
   "metadata": {},
   "source": [
    "# Notas para el examen parcial"
   ]
  },
  {
   "cell_type": "markdown",
   "metadata": {},
   "source": [
    "La idea es poner todos los conceptos importantes para el examen de manera resumida, de tal forma que puedan ser consultados durante el examen de manera rápida."
   ]
  },
  {
   "cell_type": "markdown",
   "metadata": {},
   "source": [
    "## 1. Análisis exploratorio"
   ]
  },
  {
   "cell_type": "markdown",
   "metadata": {},
   "source": [
    "Dos tipos de trabajo en análisis exploratorio:\n",
    " - Exploratorio o de detective\n",
    " - Inferencial, confirmatorio o de juez.\n",
    "\n",
    "El paso inicial más importante del análisis de datos es entender rl proceso generador de los datos. Entre más sepamos, mejores podrán ser las respuestas. Muchas veces hay que hacer supuestos."
   ]
  },
  {
   "cell_type": "markdown",
   "metadata": {},
   "source": [
    "### Conceptos básicos"
   ]
  },
  {
   "cell_type": "markdown",
   "metadata": {},
   "source": [
    " - **Distribución de los datos** a lo largo de la escala de medición.\n",
    " - **Unidad de observació**. \n",
    " - **Función de cuantiles**: ordenamos la variable de interés y sacamos distribución acumulada. En eje x se ponen los cuantiles y en el eje y la variable de interés. Sirve para comparar valores según el orden que ocupan.\n",
    " - **Dist acumulada**: inversa de la función de cuantiles. Si graficamos, en el eje x se pone la variable de interés y en el eje y la dist. acumulada.\n",
    " - **Histogramas**: segmentamos el rango de la distribución de la variable de interés en \"cubetas\" y realizamos conteo de observaciones en cada cubeta.\n",
    " - **Gráfica de caja y brazo**: los brazos generalmente representan Q3 +- 1.5*IQR\n",
    " \n",
    "El análisis visual puede ser mejor que estimaciones puntuales como medias, medianas, varianzas, etc. porque tienen mayor interpretabilidad."
   ]
  },
  {
   "cell_type": "markdown",
   "metadata": {},
   "source": [
    "### Media y desviación estándar"
   ]
  },
  {
   "cell_type": "markdown",
   "metadata": {},
   "source": [
    "$$\\bar x = \\frac{1}{N} \\sum_{n=1}^{N}x_n$$\n",
    "$$std(x) = \\sqrt{\\frac{1}{N-1}\\sum_{n=1}^{N}(x_n-\\bar x)}$$"
   ]
  },
  {
   "cell_type": "markdown",
   "metadata": {},
   "source": [
    "### Suavizamiento loess"
   ]
  },
  {
   "cell_type": "markdown",
   "metadata": {},
   "source": [
    "La curva loess es una gráfica de regresión local que permite encontrar tendencias locales. La idea del loess es encontrar patrones importantes en los datos."
   ]
  },
  {
   "cell_type": "markdown",
   "metadata": {},
   "source": [
    "## 2. Tipos de estudio y experimentos"
   ]
  },
  {
   "cell_type": "markdown",
   "metadata": {},
   "source": [
    "### Proceso generador de cambios"
   ]
  },
  {
   "cell_type": "markdown",
   "metadata": {},
   "source": [
    " - En inferencia buscamos realizar afirmaciones cuantificadas de manera probabilistica.\n",
    " - Para realizar inferencia, se requiere conocer el proceso generador.\n",
    " - Lo anteror incluye conocer como se seleccionaron los datos."
   ]
  },
  {
   "cell_type": "markdown",
   "metadata": {},
   "source": [
    "### Estimador estándar"
   ]
  },
  {
   "cell_type": "markdown",
   "metadata": {},
   "source": [
    "A la diferencia de medias de tratados y no tradados se le llama estimador estándar del efecto causal. Suele tener deficiencias debido a:\n",
    " - Hay que realizar supuestos y no existen contrafactuales exactos.\n",
    " - Muchas veces se comparan cantidades con características muy diferentes."
   ]
  },
  {
   "cell_type": "markdown",
   "metadata": {},
   "source": [
    "### Bloqueo"
   ]
  },
  {
   "cell_type": "markdown",
   "metadata": {},
   "source": [
    "El bloqueo se refiere a la comparación de dos cantidades pero teniendo en consideración características de ambas poblaciones. Por ejemplo, se extrae una muestra estratificando por alguna característica.\n",
    "\n",
    "Aún así pueden existir variables de interés desconocidas que no nos permiten conocer completamente el proceso generador de datos.\n",
    "\n",
    "Lo anterior puede ser resuelto incluyendo aleatorización del tratamiento."
   ]
  },
  {
   "cell_type": "markdown",
   "metadata": {},
   "source": [
    "### Selección de unidades y tratamiento"
   ]
  },
  {
   "cell_type": "markdown",
   "metadata": {},
   "source": [
    "<img src=\"imagen.png\">\n",
    "\n",
    "Ejemplos: \n",
    " - **Aleatorio unidades - aleatorio asignación**: Elegir de manera aleatoria integrantes para la prueba de una vacuna. Asignarlos aleatoriamente a grupo de control y tratamiento. Se realizan estimaciones de sus características y de los resultados de las pruebas. \n",
    " - **Aleatorio unidades - no aleatorio asignación**: Elegir de manera aleatoria integrantes con y sin diabetes (dos grupos) y realizar mediciones de sus características (peso, edad, etc.).\n",
    " - **No aleatorio selección - aleatorio asignación**: No elegir de manera aleatoria integrantes para la prueba de un medicamento, pero asignarlos de manera aleatoria en grupo de control y tratamiento. Se registran los resultados de las pruebas.\n",
    " - **No aleatorio selección - no aleatorio asignación**: No se aleatoriza ni la selección y la asignación. Solo se reportan características de la muestra.\n",
    " "
   ]
  },
  {
   "cell_type": "markdown",
   "metadata": {},
   "source": [
    "## 3. Pruebas de hipótesis"
   ]
  },
  {
   "cell_type": "markdown",
   "metadata": {},
   "source": [
    "Las pruebas de hipótesis son hechas para realizar inferencia sobre algún patrón y que este no ocurre solo por las fluctuaciones de nuestros datos. \n",
    "\n",
    "Conceptos importantes son:\n",
    " - Distribución de referencia: Es la distribución con la que compararemos nuestro patrón para decidir si este realmente existe o no.\n",
    " - Datos de referencia: Son los valores teóricos o esperados bajo la hipótesis nula. \n",
    " - Hipótesis nula: Es la hipótesis de que los nuevos datos son generados bajo las mismas condiciones que los datos de control o referencia. \n"
   ]
  },
  {
   "cell_type": "markdown",
   "metadata": {},
   "source": [
    "### Prueba de permutaciones y el lineup "
   ]
  },
  {
   "cell_type": "markdown",
   "metadata": {},
   "source": [
    " - Cuando se compara una característica de dos poblaciones distintas (como la media), es posible realizar una prueba de hipótesis permutando las etiquetas que identifican a ambos grupos, calcular de nuevo la característica de interés y comparar el resultado con el valor original de la muestra. \n",
    "\n",
    " - Si se realiza la permutación un númeor grande veces, podríamos obtener una distribución de referencia contra la cual comparar la característica de interés.\n",
    "\n",
    " - La pruebas de permutaciones son más útiles cuando nuestra hipótesis nula se refiere que la distribución de los grupos son muy similares.\n",
    " "
   ]
  },
  {
   "cell_type": "markdown",
   "metadata": {
    "vscode": {
     "languageId": "plaintext"
    }
   },
   "source": [
    "### Pruebas de hipotesis tradicionales"
   ]
  },
  {
   "cell_type": "markdown",
   "metadata": {
    "vscode": {
     "languageId": "plaintext"
    }
   },
   "source": [
    " - Parámetro:  Un parámetro es una característica (numérica) de una población o de una distribución de probabilidad.\n",
    " - Estadística: Una estadística es una característica (numérica) de los datos.\n",
    " - Hipotesis núla: Definición. $H_0$ tratamos como la afirmación del status quo.\n",
    " - Hipotesis alternativa: $H_1$ tratamos como el supuesto que está a prueba y que buscamos evidencia en los datos.\n",
    "\n",
    "Hipótesis alternativa de una cola: $H_1: \\theta > \\theta_0$\n",
    "\n",
    "Hipótesis alternativa de dos colas: $H_1: \\theta \\neq \\theta_0$ \n",
    "\n",
    " - Valor p: es la probabilidad de que bajo la hipotesis nula los datos generen un valor tan extremo como la estadística de prueba observada. Valores chicos aportan evidencia en contra y viceversa.\n",
    " - Un resultado es estadísticamente significativo si tiene muy baja probabilidad de suceder al azar.\n",
    " - Distribución nula es la distribucipon de la estadística de prueba si la hipotesis nula es cierta.\n"
   ]
  },
  {
   "cell_type": "markdown",
   "metadata": {},
   "source": [
    "## 4. Estimación y distribución de muestreo"
   ]
  },
  {
   "cell_type": "markdown",
   "metadata": {},
   "source": [
    "### Distribución de muestreo"
   ]
  },
  {
   "cell_type": "markdown",
   "metadata": {},
   "source": [
    " - La distribución de muestreo de una estadística enumera los posibles resultados que puede tomar dicha estadística sobre todas las muestras posibles.\n",
    " -  Podemos clasificar que una estadística $\\hat\\theta$ es precisa si su distribución de muestreo se concentra alrededor del verdaero valor $\\theta$ que queremos estimar.\n",
    " - La distribución de muestreo es distinta de la distribución de la población.\n",
    " - La desviación estándar de la distribución de muestreo se denomina error estándar. No confundir error  estándar con desviación estándar de la población o de la muestra."
   ]
  },
  {
   "cell_type": "markdown",
   "metadata": {},
   "source": [
    "### Calculo de la distribución de muestreo"
   ]
  },
  {
   "cell_type": "markdown",
   "metadata": {},
   "source": [
    "Se puede calcular la distribución de muestreo de la siguiente forma:\n",
    " - Mediante simulación.\n",
    " - A partir de modelos probabilísticos.\n",
    " - Aproximaciones asintóticas."
   ]
  },
  {
   "cell_type": "markdown",
   "metadata": {},
   "source": [
    "### Teorema central del límite"
   ]
  },
  {
   "cell_type": "markdown",
   "metadata": {},
   "source": [
    "Si $X_1, X_2, ..., X_n$ son iid con media $\\mu$ y desviación finita $\\sigma$, entonces la distribución de muestreo de la media es aproximadamente normal con media $\\mu$ y desviación $\\frac{\\sigma}{\\sqrt n}$.\n",
    "\n",
    "Adicionalmente, la media estandarizada converge a una normal con media $0$ y varianza unitaria:\n",
    "\n",
    "$$\\sqrt n (\\frac{\\bar X - \\mu}{\\sigma}) → N(0,1)$$\n",
    "\n",
    " - El teorema central del límite aplica a situaciones más generales que las del enunciado del teorema básico.\n",
    "   - Aplica a poblaciones finitas (como vimos en el ejemplo de las casas), en 1960 Jaroslav Hajek demostró una versión del TCL bajo muestreo sin reemplazo.\n",
    "   - Mas allá de la media muestral, el TCL se puede utilizar para más estadísticas ya que muchas pueden verse como promedios, como totales o errores estándar. El TLC se ha generalizado incluso para cuantiles muestrales.\n",
    "\n",
    " - La efectividad del TCL depende del tamaño de muestra.\n",
    " - es menos útil el TCL ahora por avances en la computación.\n",
    " - "
   ]
  },
  {
   "cell_type": "markdown",
   "metadata": {},
   "source": [
    "### Normalidad y gráfica de cuantiles"
   ]
  },
  {
   "cell_type": "markdown",
   "metadata": {},
   "source": [
    "- Una gráfica de cuantiles normales es útil para demostrar si una distribución de muestreo se comporta de manera normal."
   ]
  }
 ],
 "metadata": {
  "language_info": {
   "name": "python"
  }
 },
 "nbformat": 4,
 "nbformat_minor": 2
}
